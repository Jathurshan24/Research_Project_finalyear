{
 "cells": [
  {
   "cell_type": "code",
   "execution_count": 1,
   "metadata": {},
   "outputs": [
    {
     "name": "stderr",
     "output_type": "stream",
     "text": [
      "Using TensorFlow backend.\n"
     ]
    },
    {
     "name": "stdout",
     "output_type": "stream",
     "text": [
      "(58112, 40, 40)\n",
      "There are 156 tamil characters.\n",
      "There are 58112 training character images.\n",
      "There are 15600 valid character images.\n",
      "There are 19254 test character images.\n",
      "Training set (58112, 40, 40) (58112, 156)\n",
      "Valid set (15600, 40, 40) (15600, 156)\n",
      "Test set (19254, 40, 40) (19254, 156)\n"
     ]
    }
   ],
   "source": [
    "import json\n",
    "import time\n",
    "import h5py\n",
    "\n",
    "from sklearn.datasets import load_files    \n",
    "from keras.utils import np_utils\n",
    "import numpy as np\n",
    "from glob import glob\n",
    "from PIL import Image\n",
    "import os\n",
    "from matplotlib import pyplot as plt\n",
    "from keras.preprocessing.image import ImageDataGenerator\n",
    "from sklearn.model_selection import train_test_split\n",
    "\n",
    "# Function to load train and test datasets\n",
    "def load_dataset(path):\n",
    "    data = load_files(path)\n",
    "    char_files = np.array([np.array(Image.open(img).convert('L'), 'f') for img in data['filenames']])\n",
    "    char_labels = np_utils.to_categorical(np.array(data['target']), 156)\n",
    "    return char_files, char_labels\n",
    "\n",
    "np.random.seed(1337)\n",
    "\n",
    "train_images, train_labels = load_dataset('output_org/train')\n",
    "valid_images, valid_labels = load_dataset('output_org/val')\n",
    "test_images, test_labels = load_dataset('output_org/test')\n",
    "#(train_images, test_images, train_labels, test_labels) = train_test_split(images, labels, test_size=0.3, random_state=seed)\n",
    "num_classes = train_labels.shape[1]\n",
    "# print(train_images)\n",
    "print(train_images.shape)\n",
    "print('There are %d tamil characters.' % num_classes)\n",
    "print('There are %d training character images.' % len(train_images))\n",
    "print('There are %d valid character images.'% len(valid_images))\n",
    "print('There are %d test character images.'% len(test_images))\n",
    "\n",
    "print('Training set', train_images.shape, train_labels.shape)\n",
    "print('Valid set', valid_images.shape, valid_labels.shape)\n",
    "print('Test set', test_images.shape, test_labels.shape)"
   ]
  },
  {
   "cell_type": "code",
   "execution_count": 2,
   "metadata": {},
   "outputs": [
    {
     "name": "stdout",
     "output_type": "stream",
     "text": [
      "Training Tensor (58112, 40, 40, 1)\n",
      "Valid set (15600, 40, 40, 1)\n",
      "Test set (19254, 40, 40, 1)\n"
     ]
    }
   ],
   "source": [
    "image_size = 40\n",
    "num_channels = 1 # grayscale\n",
    "\n",
    "def reformat(images):\n",
    "    images = images.reshape((-1, image_size, image_size, num_channels))\n",
    "    return images\n",
    "\n",
    "train_tensors = reformat(train_images).astype('float32')/255\n",
    "valid_tensors = reformat(valid_images).astype('float32')/255\n",
    "test_tensors = reformat(test_images).astype('float32')/255\n",
    "print('Training Tensor', train_tensors.shape)\n",
    "print('Valid set', valid_tensors.shape)\n",
    "print('Test set', test_tensors.shape)"
   ]
  },
  {
   "cell_type": "code",
   "execution_count": 3,
   "metadata": {},
   "outputs": [],
   "source": [
    "import os\n",
    "from keras.preprocessing.image import ImageDataGenerator \n",
    "\n",
    "data_augmentation = False\n",
    "batch_size = 128\n",
    "n_epochs = 60\n",
    "\n",
    "save_dir = os.path.join(os.getcwd(), 'saved_models')\n",
    "model_name = 'keras_cnn_tamil_character_trained_model.h5'\n",
    "if not os.path.isdir(save_dir):\n",
    "    os.makedirs(save_dir)\n",
    "model_path = os.path.join(save_dir, model_name)"
   ]
  },
  {
   "cell_type": "code",
   "execution_count": 6,
   "metadata": {},
   "outputs": [],
   "source": [
    "from keras.layers import Conv2D, MaxPooling2D, GlobalAveragePooling2D\n",
    "from tensorflow.python.keras.applications import ResNet50\n",
    "from keras.layers import Dropout, Flatten, Dense, Activation\n",
    "from keras.models import Sequential\n",
    "from keras.optimizers import Adam, SGD\n",
    "from keras.layers.normalization import BatchNormalization\n",
    "from keras.callbacks import ModelCheckpoint \n",
    "\n",
    "def conv_net_model():\n",
    "    \n",
    "    model = Sequential()\n",
    "\n",
    "    model.add(Conv2D(32, (5, 5), activation='relu', padding='same', input_shape=(image_size, image_size, 1)))\n",
    "    model.add(MaxPooling2D(pool_size=(2, 2)))\n",
    "    \n",
    "    model.add(Conv2D(32, (3, 3), activation='relu', padding='same'))\n",
    "    model.add(MaxPooling2D(pool_size=(2, 2)))   \n",
    "              \n",
    "    model.add(Conv2D(64, (3, 3), activation='relu', padding='same'))\n",
    "    model.add(MaxPooling2D(pool_size=(2, 2)))\n",
    "              \n",
    "    model.add(Conv2D(128, (3, 3), activation='relu', padding='same'))\n",
    "    model.add(MaxPooling2D(pool_size=(2, 2)))\n",
    "    \n",
    "    model.add(Flatten())\n",
    "\n",
    "    model.add(Dense(512, activation='relu'))              \n",
    "    model.add(Dropout(0.5))\n",
    "    \n",
    "    model.add(Dense(156, activation='softmax'))\n",
    "    \n",
    "    model.summary()\n",
    "    \n",
    "    return model"
   ]
  },
  {
   "cell_type": "code",
   "execution_count": 7,
   "metadata": {},
   "outputs": [
    {
     "name": "stdout",
     "output_type": "stream",
     "text": [
      "_________________________________________________________________\n",
      "Layer (type)                 Output Shape              Param #   \n",
      "=================================================================\n",
      "conv2d_5 (Conv2D)            (None, 40, 40, 32)        832       \n",
      "_________________________________________________________________\n",
      "max_pooling2d_5 (MaxPooling2 (None, 20, 20, 32)        0         \n",
      "_________________________________________________________________\n",
      "conv2d_6 (Conv2D)            (None, 20, 20, 32)        9248      \n",
      "_________________________________________________________________\n",
      "max_pooling2d_6 (MaxPooling2 (None, 10, 10, 32)        0         \n",
      "_________________________________________________________________\n",
      "conv2d_7 (Conv2D)            (None, 10, 10, 64)        18496     \n",
      "_________________________________________________________________\n",
      "max_pooling2d_7 (MaxPooling2 (None, 5, 5, 64)          0         \n",
      "_________________________________________________________________\n",
      "conv2d_8 (Conv2D)            (None, 5, 5, 128)         73856     \n",
      "_________________________________________________________________\n",
      "max_pooling2d_8 (MaxPooling2 (None, 2, 2, 128)         0         \n",
      "_________________________________________________________________\n",
      "flatten_2 (Flatten)          (None, 512)               0         \n",
      "_________________________________________________________________\n",
      "dense_3 (Dense)              (None, 512)               262656    \n",
      "_________________________________________________________________\n",
      "dropout_2 (Dropout)          (None, 512)               0         \n",
      "_________________________________________________________________\n",
      "dense_4 (Dense)              (None, 156)               80028     \n",
      "=================================================================\n",
      "Total params: 445,116\n",
      "Trainable params: 445,116\n",
      "Non-trainable params: 0\n",
      "_________________________________________________________________\n"
     ]
    }
   ],
   "source": [
    "model = conv_net_model()"
   ]
  },
  {
   "cell_type": "code",
   "execution_count": 8,
   "metadata": {},
   "outputs": [
    {
     "name": "stdout",
     "output_type": "stream",
     "text": [
      "Not using data augmentation.\n",
      "WARNING:tensorflow:Variable *= will be deprecated. Use `var.assign(var * other)` if you want assignment to the variable value or `x = x * y` if you want a new python Tensor object.\n",
      "Train on 58112 samples, validate on 15600 samples\n",
      "Epoch 1/60\n",
      "58112/58112 [==============================] - 134s 2ms/step - loss: 4.4648 - acc: 0.0657 - val_loss: 2.3303 - val_acc: 0.3746\n",
      "Epoch 2/60\n",
      "58112/58112 [==============================] - 132s 2ms/step - loss: 1.8293 - acc: 0.4776 - val_loss: 1.0404 - val_acc: 0.6935\n",
      "Epoch 3/60\n",
      "58112/58112 [==============================] - 133s 2ms/step - loss: 1.0578 - acc: 0.6766 - val_loss: 0.6564 - val_acc: 0.7956\n",
      "Epoch 4/60\n",
      "58112/58112 [==============================] - 132s 2ms/step - loss: 0.7705 - acc: 0.7588 - val_loss: 0.5339 - val_acc: 0.8280\n",
      "Epoch 5/60\n",
      "58112/58112 [==============================] - 132s 2ms/step - loss: 0.6199 - acc: 0.8020 - val_loss: 0.4754 - val_acc: 0.8462\n",
      "Epoch 6/60\n",
      "58112/58112 [==============================] - 132s 2ms/step - loss: 0.5361 - acc: 0.8281 - val_loss: 0.4476 - val_acc: 0.8551\n",
      "Epoch 7/60\n",
      "58112/58112 [==============================] - 132s 2ms/step - loss: 0.4749 - acc: 0.8467 - val_loss: 0.4088 - val_acc: 0.8641\n",
      "Epoch 8/60\n",
      "58112/58112 [==============================] - 133s 2ms/step - loss: 0.4249 - acc: 0.8607 - val_loss: 0.3948 - val_acc: 0.8706\n",
      "Epoch 9/60\n",
      "58112/58112 [==============================] - 132s 2ms/step - loss: 0.3878 - acc: 0.8723 - val_loss: 0.3943 - val_acc: 0.8710\n",
      "Epoch 10/60\n",
      "58112/58112 [==============================] - 133s 2ms/step - loss: 0.3562 - acc: 0.8820 - val_loss: 0.3820 - val_acc: 0.8750\n",
      "Epoch 11/60\n",
      "58112/58112 [==============================] - 133s 2ms/step - loss: 0.3305 - acc: 0.8907 - val_loss: 0.3756 - val_acc: 0.8775\n",
      "Epoch 12/60\n",
      "58112/58112 [==============================] - 133s 2ms/step - loss: 0.3088 - acc: 0.8951 - val_loss: 0.3688 - val_acc: 0.8817\n",
      "Epoch 13/60\n",
      "58112/58112 [==============================] - 132s 2ms/step - loss: 0.2876 - acc: 0.9008 - val_loss: 0.3699 - val_acc: 0.8812\n",
      "Epoch 14/60\n",
      "58112/58112 [==============================] - 132s 2ms/step - loss: 0.2720 - acc: 0.9076 - val_loss: 0.3793 - val_acc: 0.8783\n",
      "Epoch 15/60\n",
      "58112/58112 [==============================] - 133s 2ms/step - loss: 0.2617 - acc: 0.9099 - val_loss: 0.3728 - val_acc: 0.8827\n",
      "Epoch 16/60\n",
      "58112/58112 [==============================] - 132s 2ms/step - loss: 0.2502 - acc: 0.9157 - val_loss: 0.3718 - val_acc: 0.8833\n",
      "Epoch 17/60\n",
      "58112/58112 [==============================] - 132s 2ms/step - loss: 0.2340 - acc: 0.9191 - val_loss: 0.3626 - val_acc: 0.8879\n",
      "Epoch 18/60\n",
      "58112/58112 [==============================] - 132s 2ms/step - loss: 0.2241 - acc: 0.9218 - val_loss: 0.3696 - val_acc: 0.8848\n",
      "Epoch 19/60\n",
      "58112/58112 [==============================] - 132s 2ms/step - loss: 0.2181 - acc: 0.9241 - val_loss: 0.3625 - val_acc: 0.8881\n",
      "Epoch 20/60\n",
      "58112/58112 [==============================] - 132s 2ms/step - loss: 0.2057 - acc: 0.9273 - val_loss: 0.3591 - val_acc: 0.8890\n",
      "Epoch 21/60\n",
      "58112/58112 [==============================] - 133s 2ms/step - loss: 0.1981 - acc: 0.9303 - val_loss: 0.3637 - val_acc: 0.8880\n",
      "Epoch 22/60\n",
      "58112/58112 [==============================] - 132s 2ms/step - loss: 0.1932 - acc: 0.9308 - val_loss: 0.3604 - val_acc: 0.8910\n",
      "Epoch 23/60\n",
      "58112/58112 [==============================] - 133s 2ms/step - loss: 0.1813 - acc: 0.9363 - val_loss: 0.3675 - val_acc: 0.8896\n",
      "Epoch 24/60\n",
      "58112/58112 [==============================] - 133s 2ms/step - loss: 0.1778 - acc: 0.9368 - val_loss: 0.3714 - val_acc: 0.8892\n",
      "Epoch 25/60\n",
      "58112/58112 [==============================] - 133s 2ms/step - loss: 0.1699 - acc: 0.9405 - val_loss: 0.3744 - val_acc: 0.8894\n",
      "Epoch 26/60\n",
      "58112/58112 [==============================] - 134s 2ms/step - loss: 0.1652 - acc: 0.9412 - val_loss: 0.3702 - val_acc: 0.8900\n",
      "Epoch 27/60\n",
      "58112/58112 [==============================] - 134s 2ms/step - loss: 0.1628 - acc: 0.9426 - val_loss: 0.3720 - val_acc: 0.8912\n",
      "Epoch 28/60\n",
      "58112/58112 [==============================] - 134s 2ms/step - loss: 0.1549 - acc: 0.9435 - val_loss: 0.3704 - val_acc: 0.8926\n",
      "Epoch 29/60\n",
      "58112/58112 [==============================] - 141s 2ms/step - loss: 0.1535 - acc: 0.9452 - val_loss: 0.3696 - val_acc: 0.8929\n",
      "Epoch 30/60\n",
      "58112/58112 [==============================] - 150s 3ms/step - loss: 0.1479 - acc: 0.9479 - val_loss: 0.3734 - val_acc: 0.8926\n",
      "Epoch 31/60\n",
      "58112/58112 [==============================] - 141s 2ms/step - loss: 0.1437 - acc: 0.9500 - val_loss: 0.3839 - val_acc: 0.8912\n",
      "Epoch 32/60\n",
      "58112/58112 [==============================] - 142s 2ms/step - loss: 0.1395 - acc: 0.9500 - val_loss: 0.3793 - val_acc: 0.8915\n",
      "Epoch 33/60\n",
      "58112/58112 [==============================] - 142s 2ms/step - loss: 0.1374 - acc: 0.9513 - val_loss: 0.3739 - val_acc: 0.8921\n",
      "Epoch 34/60\n",
      "58112/58112 [==============================] - 144s 2ms/step - loss: 0.1342 - acc: 0.9515 - val_loss: 0.3840 - val_acc: 0.8921\n",
      "Epoch 35/60\n",
      "58112/58112 [==============================] - 139s 2ms/step - loss: 0.1336 - acc: 0.9515 - val_loss: 0.3806 - val_acc: 0.8926\n",
      "Epoch 36/60\n",
      "58112/58112 [==============================] - 142s 2ms/step - loss: 0.1295 - acc: 0.9536 - val_loss: 0.3830 - val_acc: 0.8917\n",
      "Epoch 37/60\n",
      "58112/58112 [==============================] - 140s 2ms/step - loss: 0.1267 - acc: 0.9546 - val_loss: 0.3863 - val_acc: 0.8924\n",
      "Epoch 38/60\n",
      "58112/58112 [==============================] - 141s 2ms/step - loss: 0.1203 - acc: 0.9566 - val_loss: 0.3833 - val_acc: 0.8935\n",
      "Epoch 39/60\n",
      "58112/58112 [==============================] - 144s 2ms/step - loss: 0.1183 - acc: 0.9575 - val_loss: 0.3867 - val_acc: 0.8953\n",
      "Epoch 40/60\n",
      "58112/58112 [==============================] - 147s 3ms/step - loss: 0.1165 - acc: 0.9586 - val_loss: 0.3903 - val_acc: 0.8938\n",
      "Epoch 41/60\n",
      "58112/58112 [==============================] - 142s 2ms/step - loss: 0.1143 - acc: 0.9590 - val_loss: 0.3885 - val_acc: 0.8942\n",
      "Epoch 42/60\n",
      "58112/58112 [==============================] - 145s 2ms/step - loss: 0.1127 - acc: 0.9591 - val_loss: 0.3923 - val_acc: 0.8930\n",
      "Epoch 43/60\n",
      "58112/58112 [==============================] - 138s 2ms/step - loss: 0.1121 - acc: 0.9585 - val_loss: 0.3932 - val_acc: 0.8943\n",
      "Epoch 44/60\n",
      "58112/58112 [==============================] - 138s 2ms/step - loss: 0.1091 - acc: 0.9613 - val_loss: 0.3916 - val_acc: 0.8946\n",
      "Epoch 45/60\n",
      "58112/58112 [==============================] - 141s 2ms/step - loss: 0.1060 - acc: 0.9626 - val_loss: 0.3917 - val_acc: 0.8945\n",
      "Epoch 46/60\n",
      "58112/58112 [==============================] - 137s 2ms/step - loss: 0.1047 - acc: 0.9623 - val_loss: 0.3973 - val_acc: 0.8928\n",
      "Epoch 47/60\n",
      "58112/58112 [==============================] - 139s 2ms/step - loss: 0.1013 - acc: 0.9636 - val_loss: 0.3950 - val_acc: 0.8941\n",
      "Epoch 48/60\n",
      "58112/58112 [==============================] - 139s 2ms/step - loss: 0.1003 - acc: 0.9637 - val_loss: 0.3990 - val_acc: 0.8935\n",
      "Epoch 49/60\n",
      "58112/58112 [==============================] - 140s 2ms/step - loss: 0.0984 - acc: 0.9649 - val_loss: 0.3992 - val_acc: 0.8931\n",
      "Epoch 50/60\n",
      "58112/58112 [==============================] - 140s 2ms/step - loss: 0.0967 - acc: 0.9657 - val_loss: 0.3992 - val_acc: 0.8930\n",
      "Epoch 51/60\n",
      "58112/58112 [==============================] - 140s 2ms/step - loss: 0.0958 - acc: 0.9657 - val_loss: 0.4002 - val_acc: 0.8967\n",
      "Epoch 52/60\n",
      "58112/58112 [==============================] - 141s 2ms/step - loss: 0.0955 - acc: 0.9660 - val_loss: 0.4076 - val_acc: 0.8944\n",
      "Epoch 53/60\n",
      "58112/58112 [==============================] - 141s 2ms/step - loss: 0.0956 - acc: 0.9655 - val_loss: 0.4028 - val_acc: 0.8940\n",
      "Epoch 54/60\n",
      "58112/58112 [==============================] - 139s 2ms/step - loss: 0.0932 - acc: 0.9670 - val_loss: 0.4068 - val_acc: 0.8941\n",
      "Epoch 55/60\n",
      "58112/58112 [==============================] - 141s 2ms/step - loss: 0.0894 - acc: 0.9681 - val_loss: 0.4092 - val_acc: 0.8942\n",
      "Epoch 56/60\n",
      "58112/58112 [==============================] - 141s 2ms/step - loss: 0.0887 - acc: 0.9680 - val_loss: 0.4125 - val_acc: 0.8965\n",
      "Epoch 57/60\n",
      "58112/58112 [==============================] - 141s 2ms/step - loss: 0.0881 - acc: 0.9688 - val_loss: 0.4105 - val_acc: 0.8954\n",
      "Epoch 58/60\n"
     ]
    },
    {
     "name": "stdout",
     "output_type": "stream",
     "text": [
      "58112/58112 [==============================] - 133s 2ms/step - loss: 0.0872 - acc: 0.9691 - val_loss: 0.4142 - val_acc: 0.8943\n",
      "Epoch 59/60\n",
      "58112/58112 [==============================] - 133s 2ms/step - loss: 0.0855 - acc: 0.9699 - val_loss: 0.4143 - val_acc: 0.8953\n",
      "Epoch 60/60\n",
      "58112/58112 [==============================] - 134s 2ms/step - loss: 0.0837 - acc: 0.9691 - val_loss: 0.4175 - val_acc: 0.8959\n",
      "Large CNN Error: 4.58%\n",
      "Test loss: 0.1827835656580238\n",
      "Test Accuracy : 0.95%\n"
     ]
    }
   ],
   "source": [
    "learning_rate = 0.1\n",
    "decay_rate = learning_rate / n_epochs\n",
    "momentum = 0.8\n",
    "sgd = SGD(lr=learning_rate, momentum=momentum, decay=decay_rate, nesterov=False)\n",
    "\n",
    "checkpointer = ModelCheckpoint(filepath='saved_models/keras_cnn_tamil_char_trained_model.h5', monitor = 'val_loss',  \n",
    "                               verbose=0, save_best_only=True, mode = 'auto')\n",
    "\n",
    "model.compile(loss = 'categorical_crossentropy', optimizer = sgd, metrics = ['accuracy'])\n",
    "\n",
    "timestamp = int(time.time())\n",
    "with open('%d-model.json' %timestamp, 'w') as f:\n",
    "    d = json.loads(model.to_json())\n",
    "    json.dump(d, f, indent = 4)\n",
    "\n",
    "        \n",
    "if data_augmentation:\n",
    "    print('Using real-time data augmentation.')\n",
    "    # This will do preprocessing and realtime data augmentation:\n",
    "    datagen = ImageDataGenerator(\n",
    "        featurewise_center=False,  # set input mean to 0 over the dataset\n",
    "        samplewise_center=False,  # set each sample mean to 0\n",
    "        featurewise_std_normalization=False,  # divide inputs by std of the dataset\n",
    "        samplewise_std_normalization=False,  # divide each input by its std\n",
    "        zca_whitening=False,  # apply ZCA whitening\n",
    "        rotation_range=20,  # randomly rotate images in the range (degrees, 0 to 180)\n",
    "        width_shift_range=0.2,  # randomly shift images horizontally (fraction of total width)\n",
    "        height_shift_range=0.2,  # randomly shift images vertically (fraction of total height)\n",
    "        horizontal_flip=True,  # randomly flip images\n",
    "        vertical_flip=False)  # randomly flip images\n",
    "\n",
    "    # Compute quantities required for feature-wise normalization\n",
    "    # (std, mean, and principal components if ZCA whitening is applied).\n",
    "    datagen.fit(train_tensors)\n",
    "\n",
    "    # Fit the model on the batches generated by datagen.flow().\n",
    "    with h5py.File(model_path, 'r') as f:\n",
    "        history = model.fit_generator(datagen.flow(train_tensors, train_labels,\n",
    "                                     batch_size=32),\n",
    "                        steps_per_epoch=int(np.ceil(train_tensors.shape[0] / float(batch_size))),\n",
    "                        epochs=n_epochs,\n",
    "                        validation_data = (valid_tensors, valid_labels), \n",
    "                        callbacks = [checkpointer], \n",
    "                        verbose = 1)\n",
    "    \n",
    "else:\n",
    "    print('Not using data augmentation.')\n",
    "    \n",
    "    with h5py.File(model_path, 'r') as f:\n",
    "        \n",
    "        history = model.fit(train_tensors, train_labels,\n",
    "                            epochs = n_epochs, \n",
    "                            validation_data = (valid_tensors, valid_labels),\n",
    "                            batch_size = 128,\n",
    "                            shuffle = 'batch', verbose=1)\n",
    "        \n",
    "model.save(model_path)\n",
    "# Final evaluation of the model\n",
    "scores = model.evaluate(test_tensors, test_labels, verbose=0)\n",
    "\n",
    "print('Large CNN Error: %.2f%%' % (100-scores[1]*100))\n",
    "print('Test loss:', scores[0])\n",
    "print('Test Accuracy : %.2f%%' % scores[1])\n",
    "\n",
    "model.save_weights('%d-weights-%f.hdf5' %(timestamp, scores[1]))\n"
   ]
  },
  {
   "cell_type": "code",
   "execution_count": 9,
   "metadata": {},
   "outputs": [
    {
     "name": "stdout",
     "output_type": "stream",
     "text": [
      "dict_keys(['val_loss', 'val_acc', 'loss', 'acc'])\n"
     ]
    },
    {
     "data": {
      "image/png": "[encoded data removed]",
      "text/plain": [
       "<Figure size 432x288 with 1 Axes>"
      ]
     },
     "metadata": {
      "needs_background": "light"
     },
     "output_type": "display_data"
    },
    {
     "data": {
      "image/png": "[encoded data removed]",
      "text/plain": [
       "<Figure size 432x288 with 1 Axes>"
      ]
     },
     "metadata": {
      "needs_background": "light"
     },
     "output_type": "display_data"
    }
   ],
   "source": [
    "print(history.history.keys())\n",
    "\n",
    "plt.plot(history.history['acc'])\n",
    "plt.plot(history.history['val_acc'])\n",
    "plt.title('model accuracy')\n",
    "plt.ylabel('accuracy')\n",
    "plt.xlabel('epoch')\n",
    "plt.legend(['train', 'test'], loc='upper left')\n",
    "plt.show()\n",
    "plt.plot(history.history['loss'])\n",
    "plt.plot(history.history['val_loss'])\n",
    "plt.title('model loss')\n",
    "plt.ylabel('loss')\n",
    "plt.xlabel('epoch')\n",
    "plt.legend(['train', 'test'], loc='upper left')\n",
    "plt.show()"
   ]
  },
  {
   "cell_type": "code",
   "execution_count": 10,
   "metadata": {},
   "outputs": [],
   "source": [
    "from sklearn.metrics import confusion_matrix\n",
    "preds = model.predict(test_tensors)\n",
    "predicts = np.argmax(preds, axis = 1)\n",
    "Y_test = np.argmax(test_labels, axis =1)"
   ]
  },
  {
   "cell_type": "code",
   "execution_count": 11,
   "metadata": {},
   "outputs": [
    {
     "data": {
      "image/png": "[encoded data removed]",
      "text/plain": [
       "<Figure size 288x288 with 2 Axes>"
      ]
     },
     "metadata": {
      "needs_background": "light"
     },
     "output_type": "display_data"
    }
   ],
   "source": [
    "cm = confusion_matrix(Y_test, predicts)\n",
    "plt.matshow(cm)\n",
    "plt.title('Confusion matrix')\n",
    "plt.colorbar()\n",
    "plt.ylabel('True label')\n",
    "plt.xlabel('Predicted label')\n",
    "plt.show()\n"
   ]
  },
  {
   "cell_type": "code",
   "execution_count": 13,
   "metadata": {
    "scrolled": true
   },
   "outputs": [
    {
     "name": "stdout",
     "output_type": "stream",
     "text": [
      "Actual_labels  |  Predicted_labels\n",
      "       54      |      54\n",
      "       57      |      57\n",
      "       32      |      32\n",
      "       20      |      20\n",
      "       28      |      28\n",
      "        1      |       1\n",
      "       82      |      82\n",
      "      142      |     142\n",
      "        7      |       7\n",
      "      111      |     111\n",
      "      128      |     128\n",
      "      115      |     115\n",
      "       77      |      77\n",
      "       23      |     117\n",
      "       24      |      24\n",
      "      120      |     120\n",
      "       51      |      51\n",
      "       78      |      78\n",
      "       99      |      99\n",
      "       98      |      98\n",
      "       63      |      63\n",
      "       71      |      71\n",
      "       17      |      17\n",
      "      132      |     132\n",
      "       87      |      87\n",
      "      107      |     107\n",
      "       24      |      24\n",
      "      103      |     103\n",
      "      112      |     112\n",
      "       24      |      24\n",
      "       10      |      10\n",
      "      137      |     149\n",
      "       93      |      93\n",
      "       37      |      37\n",
      "      106      |     106\n",
      "       44      |      44\n",
      "      141      |     141\n",
      "      155      |     155\n",
      "       23      |      23\n",
      "       15      |      15\n",
      "       27      |      27\n",
      "       18      |      18\n",
      "       94      |      94\n",
      "       97      |      97\n",
      "      129      |     129\n",
      "       69      |      69\n",
      "       57      |      57\n",
      "       72      |      72\n",
      "       96      |      96\n",
      "      119      |     119\n"
     ]
    }
   ],
   "source": [
    "print('Actual_labels  |  Predicted_labels')\n",
    "for i in range(50):\n",
    "    print('      %3d      |     %3d' %(Y_test[i], predicts[i]))"
   ]
  },
  {
   "cell_type": "code",
   "execution_count": null,
   "metadata": {},
   "outputs": [],
   "source": []
  }
 ],
 "metadata": {
  "kernelspec": {
   "display_name": "Python 3",
   "language": "python",
   "name": "python3"
  },
  "language_info": {
   "codemirror_mode": {
    "name": "ipython",
    "version": 3
   },
   "file_extension": ".py",
   "mimetype": "text/x-python",
   "name": "python",
   "nbconvert_exporter": "python",
   "pygments_lexer": "ipython3",
   "version": "3.6.6"
  }
 },
 "nbformat": 4,
 "nbformat_minor": 2
}
